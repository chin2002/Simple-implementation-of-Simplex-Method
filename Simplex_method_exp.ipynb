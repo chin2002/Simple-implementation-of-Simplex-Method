{
 "cells": [
  {
   "cell_type": "code",
   "execution_count": null,
   "id": "210cef78",
   "metadata": {},
   "outputs": [],
   "source": [
    "import numpy as np\n",
    "# import matplotlib.pyplot as plt"
   ]
  },
  {
   "cell_type": "code",
   "execution_count": null,
   "id": "bae16681",
   "metadata": {},
   "outputs": [],
   "source": [
    "# # Graphs\n",
    "# x1_lin = np.linspace(-1, 6, 100)\n",
    "# x2_1_lin = (24 - 6*x1_lin) / 4\n",
    "# x2_2_lin = (6 - x1_lin) / 2\n",
    "\n",
    "# plt.plot(x1_lin, x2_1_lin, color = 'blue')\n",
    "# plt.plot(x1_lin, x2_2_lin, color = 'red')\n",
    "\n",
    "# plt.plot(3, 1.5, marker = 'o', color = 'green')\n",
    "# plt.text(3, 1.5, '(3, 1.5)', fontsize=12, ha='right', va='bottom')\n",
    "\n",
    "# x1_1_shade = np.linspace(0, 4, 100)\n",
    "# x1_2_shade = np.linspace(0, 6, 100)\n",
    "# x2_1_shade = (24 - 6*x1_1_shade) / 4\n",
    "# x2_2_shade = (6 - x1_2_shade) / 2\n",
    "\n",
    "# plt.fill_between(x1_1_shade, x2_1_shade, color='blue', alpha=0.5, label='Shaded Region')\n",
    "# plt.fill_between(x1_2_shade, x2_2_shade, color='red', alpha=0.5, label='Shaded Region')\n",
    "\n",
    "# # Show solid x and y axes lines\n",
    "# plt.axhline(0, color='black', linewidth=1)  # Solid horizontal line at y=0\n",
    "# plt.axvline(0, color='black', linewidth=1)  # Solid vertical line at x=0\n",
    "\n",
    "# plt.xlabel('X-axis')\n",
    "# plt.ylabel('Y-axis')\n",
    "\n",
    "# plt.title('Constraints')\n",
    "\n",
    "# plt.show()"
   ]
  },
  {
   "cell_type": "code",
   "execution_count": null,
   "id": "c6d76a08",
   "metadata": {},
   "outputs": [],
   "source": [
    "# # Define the simplex table\n",
    "# n_variables = 3\n",
    "# n_constraints = 5\n",
    "# n_artificial = 0\n",
    "# design_variables = [f\"x{i+1}\" for i in range(n_variables)]\n",
    "# slack_variables = [f\"s{i+1}\" for i in range(n_constraints)]\n",
    "# artificial_variables = [f\"a{i+1}\" for i in range(n_artificial)]\n",
    "# variables = ['f'] + design_variables + slack_variables + artificial_variables + ['soln']\n",
    "# basic_variables = ['f'] + slack_variables\n",
    "# simplex_table = np.zeros([len(basic_variables), len(variables)])\n",
    "\n",
    "# # Populate simplex table\n",
    "# simplex_table[0, 0] = 1\n",
    "# simplex_table[1:4, 1:3] = -np.array([[8, 6], [5, 12], [10, 4]])\n",
    "# simplex_table[4:, 1:3] = np.identity(2)\n",
    "# simplex_table[:4, 3] = [-1, 1, 1, 1]\n",
    "# simplex_table[1:, 4:-1] = np.identity(5)\n",
    "# simplex_table[4:, -1] = [100, 80]\n",
    "# print(simplex_table)"
   ]
  },
  {
   "cell_type": "code",
   "execution_count": null,
   "id": "ac785934",
   "metadata": {},
   "outputs": [],
   "source": [
    "# # Entering variables\n",
    "# entering_variable = np.argmin(simplex_table[0, :-1])\n",
    "# print(entering_variable, variables[entering_variable])\n",
    "\n",
    "# # Leaving Variable\n",
    "# ratios = [\n",
    "#     (row[-1] / row[entering_variable]) if (\n",
    "#         (row[entering_variable] > 0) and (row[-1] >= 0)\n",
    "#     ) else np.nan for row in simplex_table]\n",
    "# leaving_variable = np.nanargmin(ratios)\n",
    "# print(leaving_variable, basic_variables[leaving_variable])\n",
    "\n",
    "# # Row operations\n",
    "# simplex_table[leaving_variable] /= simplex_table[leaving_variable, entering_variable]\n",
    "# print(simplex_table)\n",
    "\n",
    "# for i in range(len(simplex_table)):\n",
    "#     if i == leaving_variable:\n",
    "#         continue\n",
    "#     simplex_table[i] -= simplex_table[leaving_variable] * simplex_table[i, entering_variable]\n",
    "# print(simplex_table)\n",
    "\n",
    "# # Changing the basis\n",
    "# basic_variables[leaving_variable] = variables[entering_variable]\n",
    "# print(basic_variables)\n",
    "\n",
    "# if np.min(simplex_table[0, :-1]) >= 0:\n",
    "#     print(\"simplex_terminated\")\n",
    "# else:\n",
    "#     print(\"simplex_continued\")"
   ]
  },
  {
   "cell_type": "code",
   "execution_count": null,
   "id": "9707838b",
   "metadata": {},
   "outputs": [],
   "source": [
    "# define simplex table\n",
    "\n",
    "\n",
    "# Populate simplex table"
   ]
  },
  {
   "cell_type": "code",
   "execution_count": null,
   "id": "a3215266",
   "metadata": {},
   "outputs": [],
   "source": [
    "def Simplex_method(simplex_table):\n",
    "    iteration_index = 0\n",
    "    while np.min(simplex_table[0, :-1]) < 0:\n",
    "        iteration_index += 1\n",
    "        print(f\"Current Iteration: {iteration_index}\")\n",
    "        \n",
    "        # Entering variables\n",
    "        entering_variable = np.argmin(simplex_table[0, :-1])\n",
    "        print(f\"Entering Variable: {variables[entering_variable]}\")\n",
    "\n",
    "        # Leaving Variable\n",
    "        ratios = [\n",
    "            (row[-1] / row[entering_variable]) if (\n",
    "                (row[entering_variable] > 0) and (row[-1] >= 0)\n",
    "            ) else np.nan for row in simplex_table]\n",
    "        leaving_variable = np.nanargmin(ratios)\n",
    "        print(f\"Leaving Variable: {basic_variables[leaving_variable]}\")\n",
    "\n",
    "        # Row operations\n",
    "        simplex_table[leaving_variable] /= simplex_table[leaving_variable, entering_variable]\n",
    "        for i in range(len(simplex_table)):\n",
    "            if i == leaving_variable:\n",
    "                continue\n",
    "            simplex_table[i] -= simplex_table[leaving_variable] * simplex_table[i, entering_variable]\n",
    "        print(simplex_table)\n",
    "\n",
    "        # Changing the basis\n",
    "        basic_variables[leaving_variable] = variables[entering_variable]\n",
    "        print(basic_variables)\n",
    "## Done."
   ]
  },
  {
   "cell_type": "code",
   "execution_count": null,
   "id": "37697618",
   "metadata": {},
   "outputs": [],
   "source": [
    "Simplex_method(simplex_table)"
   ]
  }
 ],
 "metadata": {
  "kernelspec": {
   "display_name": "Python 3 (ipykernel)",
   "language": "python",
   "name": "python3"
  },
  "language_info": {
   "codemirror_mode": {
    "name": "ipython",
    "version": 3
   },
   "file_extension": ".py",
   "mimetype": "text/x-python",
   "name": "python",
   "nbconvert_exporter": "python",
   "pygments_lexer": "ipython3",
   "version": "3.10.9"
  }
 },
 "nbformat": 4,
 "nbformat_minor": 5
}
